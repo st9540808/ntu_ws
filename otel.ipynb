{
 "cells": [
  {
   "cell_type": "code",
   "execution_count": 1,
   "metadata": {},
   "outputs": [],
   "source": [
    "from opentelemetry import trace\n",
    "from opentelemetry.sdk.trace import TracerProvider\n",
    "from opentelemetry.sdk.trace.export import BatchSpanProcessor\n",
    "from opentelemetry.exporter.otlp.proto.grpc.trace_exporter import OTLPSpanExporter\n",
    "import socket"
   ]
  },
  {
   "cell_type": "code",
   "execution_count": 2,
   "metadata": {},
   "outputs": [
    {
     "name": "stdout",
     "output_type": "stream",
     "text": [
      "st9540808-i9-13900K\n"
     ]
    }
   ],
   "source": [
    "# Set the tracer provider\n",
    "trace.set_tracer_provider(TracerProvider())\n",
    "\n",
    "# Create an OTLP exporter\n",
    "exporter = OTLPSpanExporter(\n",
    "    # replace with your collector endpoint\n",
    "    endpoint=\"localhost:\",\n",
    "    insecure=True,\n",
    ")\n",
    "\n",
    "# Add the exporter to a span processor\n",
    "span_processor = BatchSpanProcessor(exporter)\n",
    "\n",
    "# Add the span processor to the tracer provider\n",
    "trace.get_tracer_provider().add_span_processor(span_processor)\n",
    "\n",
    "# Get the hostname of the machine\n",
    "hostname = socket.gethostname()\n",
    "print(hostname)\n",
    "\n",
    "# Get a tracer\n",
    "tracer = trace.get_tracer(__name__)"
   ]
  },
  {
   "cell_type": "code",
   "execution_count": 10,
   "metadata": {},
   "outputs": [
    {
     "name": "stdout",
     "output_type": "stream",
     "text": [
      "Hello, World!\n"
     ]
    }
   ],
   "source": [
    "with tracer.start_as_current_span(\"foo\", attributes={\"hostname\": hostname}):\n",
    "  print(\"Hello, World!\")"
   ]
  },
  {
   "cell_type": "code",
   "execution_count": 11,
   "metadata": {},
   "outputs": [
    {
     "name": "stdout",
     "output_type": "stream",
     "text": [
      "{\n",
      "    \"attributes\": {\n",
      "        \"telemetry.sdk.language\": \"python\",\n",
      "        \"telemetry.sdk.name\": \"opentelemetry\",\n",
      "        \"telemetry.sdk.version\": \"1.17.0\",\n",
      "        \"service.name\": \"unknown_service\"\n",
      "    },\n",
      "    \"schema_url\": \"\"\n",
      "}\n"
     ]
    },
    {
     "name": "stderr",
     "output_type": "stream",
     "text": [
      "Transient error StatusCode.UNAVAILABLE encountered while exporting traces, retrying in 1s.\n",
      "Transient error StatusCode.UNAVAILABLE encountered while exporting traces, retrying in 2s.\n",
      "Transient error StatusCode.UNAVAILABLE encountered while exporting traces, retrying in 4s.\n",
      "Transient error StatusCode.UNAVAILABLE encountered while exporting traces, retrying in 8s.\n",
      "Transient error StatusCode.UNAVAILABLE encountered while exporting traces, retrying in 16s.\n",
      "Transient error StatusCode.UNAVAILABLE encountered while exporting traces, retrying in 32s.\n"
     ]
    }
   ],
   "source": [
    "print(tracer.resource.to_json())"
   ]
  },
  {
   "cell_type": "code",
   "execution_count": null,
   "metadata": {},
   "outputs": [],
   "source": []
  }
 ],
 "metadata": {
  "kernelspec": {
   "display_name": "Python 3",
   "language": "python",
   "name": "python3"
  },
  "language_info": {
   "codemirror_mode": {
    "name": "ipython",
    "version": 3
   },
   "file_extension": ".py",
   "mimetype": "text/x-python",
   "name": "python",
   "nbconvert_exporter": "python",
   "pygments_lexer": "ipython3",
   "version": "3.10.6"
  },
  "orig_nbformat": 4
 },
 "nbformat": 4,
 "nbformat_minor": 2
}
